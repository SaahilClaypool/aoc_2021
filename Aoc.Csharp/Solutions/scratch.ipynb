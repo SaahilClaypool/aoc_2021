{
 "cells": [
  {
   "cell_type": "code",
   "execution_count": null,
   "metadata": {
    "dotnet_interactive": {
     "language": "csharp"
    }
   },
   "outputs": [
    {
     "data": {
      "text/html": [
       "<table><thead><tr><th><i>key</i></th><th>value</th></tr></thead><tbody><tr><td><div class=\"dni-plaintext\">N</div></td><td><div class=\"dni-plaintext\">2</div></td></tr><tr><td><div class=\"dni-plaintext\">C</div></td><td><div class=\"dni-plaintext\">1</div></td></tr><tr><td><div class=\"dni-plaintext\">B</div></td><td><div class=\"dni-plaintext\">1</div></td></tr></tbody></table>"
      ]
     },
     "metadata": {},
     "output_type": "display_data"
    }
   ],
   "source": [
    "// var s = \"NBBNBNBBCCNBCNCCNBBNBBNBBBNBBNBBCBHCBHHNHCBBCBHCB\";\n",
    "var s = \"NCNBCHB\";\n",
    "s.GroupBy(c => c).ToDictionary(c => c.Key, c => c.Count())"
   ]
  }
 ],
 "metadata": {
  "kernelspec": {
   "display_name": ".NET (C#)",
   "language": "C#",
   "name": ".net-csharp"
  },
  "language_info": {
   "name": "C#"
  }
 },
 "nbformat": 4,
 "nbformat_minor": 2
}
